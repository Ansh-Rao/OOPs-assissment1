{
 "cells": [
  {
   "cell_type": "markdown",
   "id": "a55712aa-3a47-4e47-92d2-5a2fb848943d",
   "metadata": {},
   "source": [
    "#### Q1, Create a vehicle class with an init method having instance variables as name_of_vehicle, max_speed \n",
    "#### and average_of_vehicle. "
   ]
  },
  {
   "cell_type": "code",
   "execution_count": 5,
   "id": "d75f5b78-d29c-4f88-97a3-0a1b65b41221",
   "metadata": {},
   "outputs": [],
   "source": [
    "class vehicle:\n",
    "\n",
    "    def __init__(self, name_of_vehicle, max_speed, average_of_vehicle):\n",
    "        self.name_of_vehicle = name_of_vehicle\n",
    "        self.max_speed = max_speed\n",
    "        self.average_of_vehiclee = average_of_vehicle"
   ]
  },
  {
   "cell_type": "code",
   "execution_count": null,
   "id": "16173b16-84f6-4a17-8d0b-80c315b42d74",
   "metadata": {},
   "outputs": [],
   "source": []
  },
  {
   "cell_type": "code",
   "execution_count": null,
   "id": "b70f92de-2a1d-42ba-b7a6-19de08e4f4f8",
   "metadata": {},
   "outputs": [],
   "source": []
  },
  {
   "cell_type": "markdown",
   "id": "6380c8cd-e2a8-4c94-b4a1-1b1d898529b9",
   "metadata": {},
   "source": [
    "####  Q2, Create a child class car from the vehicle class created in Que 1, which will inherit the vehicle class. \n",
    "#### Create a method named seating_capacity which takes capacity as an argument and returns the name of \n",
    "#### the vehicle and its seating capacity."
   ]
  },
  {
   "cell_type": "code",
   "execution_count": 6,
   "id": "4768e58e-070f-46a1-a9d3-70130dafc3a3",
   "metadata": {},
   "outputs": [],
   "source": [
    "class child_car(vehicle):\n",
    "    pass  "
   ]
  },
  {
   "cell_type": "code",
   "execution_count": 9,
   "id": "85a9ebe8-b55f-4092-a27c-b35a5f45603a",
   "metadata": {},
   "outputs": [],
   "source": [
    "child_car_obj = child_car(\"Thor\",280,18.2)"
   ]
  },
  {
   "cell_type": "code",
   "execution_count": 16,
   "id": "47c1114e-73e6-40c4-a0e3-ed2313c93351",
   "metadata": {},
   "outputs": [
    {
     "data": {
      "text/plain": [
       "18.2"
      ]
     },
     "execution_count": 16,
     "metadata": {},
     "output_type": "execute_result"
    }
   ],
   "source": [
    "child_car_obj.average_of_vehiclee"
   ]
  },
  {
   "cell_type": "code",
   "execution_count": 17,
   "id": "34f7b706-0a18-4586-a5d2-20e8656de81a",
   "metadata": {},
   "outputs": [
    {
     "data": {
      "text/plain": [
       "'Thor'"
      ]
     },
     "execution_count": 17,
     "metadata": {},
     "output_type": "execute_result"
    }
   ],
   "source": [
    "child_car_obj.name_of_vehicle"
   ]
  },
  {
   "cell_type": "code",
   "execution_count": null,
   "id": "170b7941-e07d-47c5-99cb-1597b8584247",
   "metadata": {},
   "outputs": [],
   "source": []
  },
  {
   "cell_type": "code",
   "execution_count": 22,
   "id": "bae58674-474f-4762-b4d4-bf6f81741c91",
   "metadata": {},
   "outputs": [],
   "source": [
    "# a method named seating_capacity\n",
    "def seating_capacity(self, seating_capacity):\n",
    "        return f\"The seating capacity of a {self.name_of_vehicle} is {seating_capacity} passengers\""
   ]
  },
  {
   "cell_type": "code",
   "execution_count": null,
   "id": "ce9aa317-a3ac-4908-b710-fc6ebeb68ad7",
   "metadata": {},
   "outputs": [],
   "source": []
  },
  {
   "cell_type": "code",
   "execution_count": null,
   "id": "b662b4b5-3fb2-4780-81cc-da64df06caf7",
   "metadata": {},
   "outputs": [],
   "source": []
  },
  {
   "cell_type": "markdown",
   "id": "b569989a-f22b-46e6-93f6-8388575af0ec",
   "metadata": {},
   "source": [
    "#### Q3. What is multiple inheritance? Write a python code to demonstrate multiple inheritance."
   ]
  },
  {
   "cell_type": "code",
   "execution_count": 23,
   "id": "885e55b9-1bf6-4980-abb4-25ad60300fad",
   "metadata": {},
   "outputs": [],
   "source": [
    "# In Multiple Inheritence , we can access more then one class from a single class ."
   ]
  },
  {
   "cell_type": "code",
   "execution_count": 29,
   "id": "5c295456-93be-4d17-9026-93ffd1558e2e",
   "metadata": {},
   "outputs": [],
   "source": [
    "# a python code to demonstrate multiple inheritance\n",
    "class class1:\n",
    "    def class1(self):\n",
    "        print(\"this is class1\")"
   ]
  },
  {
   "cell_type": "code",
   "execution_count": 30,
   "id": "207a34ea-ca14-40b8-bcc9-1796738f70b9",
   "metadata": {},
   "outputs": [],
   "source": [
    "class class2:\n",
    "    def class2(self):\n",
    "        print(\"this is class2\")"
   ]
  },
  {
   "cell_type": "code",
   "execution_count": 31,
   "id": "986c64e8-c952-46dc-b7e9-30c0d976dd58",
   "metadata": {},
   "outputs": [],
   "source": [
    "class class3(class1,class2):\n",
    "    pass"
   ]
  },
  {
   "cell_type": "code",
   "execution_count": 32,
   "id": "733ffd93-3bcd-4a39-b807-22a5a8bbb77f",
   "metadata": {},
   "outputs": [],
   "source": [
    "class_obj = class3()"
   ]
  },
  {
   "cell_type": "code",
   "execution_count": 33,
   "id": "64eb4c5e-d9f7-46f5-a83a-6fd2f2f082f0",
   "metadata": {},
   "outputs": [
    {
     "name": "stdout",
     "output_type": "stream",
     "text": [
      "this is class1\n"
     ]
    }
   ],
   "source": [
    "class_obj.class1()"
   ]
  },
  {
   "cell_type": "code",
   "execution_count": null,
   "id": "0e356aa9-a313-47b3-84e4-63e8c061536a",
   "metadata": {},
   "outputs": [],
   "source": []
  },
  {
   "cell_type": "code",
   "execution_count": null,
   "id": "8cf7fc07-8b63-4052-99ca-2d850f7224cd",
   "metadata": {},
   "outputs": [],
   "source": []
  },
  {
   "cell_type": "markdown",
   "id": "2f722727-6cc1-44ab-83f7-9c98c1c72af5",
   "metadata": {},
   "source": [
    "#### Q4. What are getter and setter in python? Create a class and create a getter and a setter method in this \n",
    "#### class."
   ]
  },
  {
   "cell_type": "code",
   "execution_count": 34,
   "id": "67dcbc8b-0898-4fed-b161-8d7c6ec9b328",
   "metadata": {},
   "outputs": [],
   "source": [
    "# Getter : A method that allows you to access an attribute in a given class. \n",
    "\n",
    "# Setter : A method that allows you to set or mutate the value of an attribute in a class."
   ]
  },
  {
   "cell_type": "code",
   "execution_count": 35,
   "id": "fc8f7f4c-3425-4b5d-94a0-3e00fed71065",
   "metadata": {},
   "outputs": [],
   "source": [
    "class test:\n",
    "    def __init__(self, age = 0):\n",
    "         self._age = age\n",
    "      \n",
    "    # getter method\n",
    "    def get_age(self):\n",
    "        return self._age\n",
    "      \n",
    "    # setter method\n",
    "    def set_age(self, x):\n",
    "        self._age = x"
   ]
  },
  {
   "cell_type": "code",
   "execution_count": 36,
   "id": "ccdcaadd-3155-48e3-b38c-f7437fa0ae46",
   "metadata": {},
   "outputs": [],
   "source": [
    "ansh = test()"
   ]
  },
  {
   "cell_type": "code",
   "execution_count": 38,
   "id": "7b48b673-16e3-4fd7-8316-ef99b84c1737",
   "metadata": {},
   "outputs": [],
   "source": [
    "ansh.set_age(21)"
   ]
  },
  {
   "cell_type": "code",
   "execution_count": 39,
   "id": "b5e4bf72-ba6b-4314-a0e7-066b7bcf3088",
   "metadata": {},
   "outputs": [
    {
     "data": {
      "text/plain": [
       "21"
      ]
     },
     "execution_count": 39,
     "metadata": {},
     "output_type": "execute_result"
    }
   ],
   "source": [
    "ansh.get_age()"
   ]
  },
  {
   "cell_type": "code",
   "execution_count": null,
   "id": "e97fca5d-f207-4c04-abcb-91b948430f33",
   "metadata": {},
   "outputs": [],
   "source": []
  },
  {
   "cell_type": "code",
   "execution_count": null,
   "id": "634c4053-6876-4fe8-b6bd-b4a7878e23e2",
   "metadata": {},
   "outputs": [],
   "source": []
  },
  {
   "cell_type": "markdown",
   "id": "e2e3fa8e-18f3-4376-9b16-9530cc30e7e8",
   "metadata": {},
   "source": [
    "#### Q5.What is method overriding in python? Write a python code to demonstrate method overriding."
   ]
  },
  {
   "cell_type": "code",
   "execution_count": 40,
   "id": "0ceb0bb3-c232-492e-afbe-ec708001996a",
   "metadata": {},
   "outputs": [],
   "source": [
    "# Method overriding in Python is when you have two methods with the same name that each perform different tasks ."
   ]
  },
  {
   "cell_type": "code",
   "execution_count": 41,
   "id": "c45ad006-689a-40be-a352-5a3024329d3b",
   "metadata": {},
   "outputs": [],
   "source": [
    "# Defining parent class\n",
    "class Parent():\n",
    "      \n",
    "    def __init__(self):\n",
    "        self.value = \"Inside Parent\"\n",
    "          \n",
    "    def show(self):\n",
    "        print(self.value)"
   ]
  },
  {
   "cell_type": "code",
   "execution_count": 42,
   "id": "6193deda-797e-4c16-9f16-91412e4ad947",
   "metadata": {},
   "outputs": [],
   "source": [
    "# Defining child class\n",
    "class Child(Parent):\n",
    "      \n",
    "    def __init__(self):\n",
    "        self.value = \"Inside Child\"\n",
    "          \n",
    "    def show(self):\n",
    "        print(self.value)\n",
    "          "
   ]
  },
  {
   "cell_type": "code",
   "execution_count": 43,
   "id": "36caede8-e48c-40ec-bf9e-b6e96b3eadb2",
   "metadata": {},
   "outputs": [],
   "source": [
    "obj1 = Parent()\n",
    "obj2 = Child()"
   ]
  },
  {
   "cell_type": "code",
   "execution_count": 44,
   "id": "4c6fccdc-9979-46f3-976c-e612b0991d0f",
   "metadata": {},
   "outputs": [
    {
     "name": "stdout",
     "output_type": "stream",
     "text": [
      "Inside Parent\n",
      "Inside Child\n"
     ]
    }
   ],
   "source": [
    "obj1.show()\n",
    "obj2.show()"
   ]
  },
  {
   "cell_type": "code",
   "execution_count": null,
   "id": "3455e1bb-0617-4569-94fe-be944ebfd251",
   "metadata": {},
   "outputs": [],
   "source": []
  }
 ],
 "metadata": {
  "kernelspec": {
   "display_name": "Python 3 (ipykernel)",
   "language": "python",
   "name": "python3"
  },
  "language_info": {
   "codemirror_mode": {
    "name": "ipython",
    "version": 3
   },
   "file_extension": ".py",
   "mimetype": "text/x-python",
   "name": "python",
   "nbconvert_exporter": "python",
   "pygments_lexer": "ipython3",
   "version": "3.10.8"
  }
 },
 "nbformat": 4,
 "nbformat_minor": 5
}
